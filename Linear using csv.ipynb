{
  "metadata": {
    "language_info": {
      "codemirror_mode": {
        "name": "python",
        "version": 3
      },
      "file_extension": ".py",
      "mimetype": "text/x-python",
      "name": "python",
      "nbconvert_exporter": "python",
      "pygments_lexer": "ipython3",
      "version": "3.8"
    },
    "kernelspec": {
      "name": "python",
      "display_name": "Python (Pyodide)",
      "language": "python"
    }
  },
  "nbformat_minor": 4,
  "nbformat": 4,
  "cells": [
    {
      "cell_type": "code",
      "source": "import pandas as pd\nimport numpy as np\nfrom sklearn.linear_model import LinearRegression\nimport matplotlib.pyplot as plt\n\n# Read the CSV file\ndata = pd.read_csv('path/to/your/file.csv')\n\n# Extract the independent variable (X) and the dependent variable (y)\nX = data['independent_variable_column'].values.reshape(-1, 1)\ny = data['dependent_variable_column'].values\n\n# Create and fit the linear regression model\nmodel = LinearRegression()\nmodel.fit(X, y)\n\n# Make predictions on test data\nX_test = np.array([[3], [4], [5]])\ny_pred = model.predict(X_test)\n\n# Print coefficients and intercept\nprint(\"Coeff:\", model.coef_[0])\nprint(\"Intercept:\", model.intercept_)\nprint(\"Predictions:\", y_pred)\n\n# Plot the data points and regression line\nplt.scatter(X, y, color=\"pink\", label=\"Data\")\nplt.plot(X, model.predict(X), color=\"green\", label=\"Linear Regression\")\n\nplt.xlabel('X')\nplt.ylabel('y')\nplt.title('Linear Regression')\n\nplt.legend()\nplt.show()\n",
      "metadata": {
        "trusted": true
      },
      "execution_count": null,
      "outputs": []
    },
    {
      "cell_type": "code",
      "source": "",
      "metadata": {},
      "execution_count": null,
      "outputs": []
    }
  ]
}